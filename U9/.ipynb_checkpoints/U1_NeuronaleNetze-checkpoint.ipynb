{
 "cells": [
  {
   "cell_type": "markdown",
   "metadata": {},
   "source": [
    "# Übung 9 - Vanessa Schreck & Lisa Mattrisch"
   ]
  },
  {
   "cell_type": "code",
   "execution_count": 1,
   "metadata": {
    "collapsed": true
   },
   "outputs": [],
   "source": [
    "import pandas as pd\n",
    "import numpy as np\n",
    "import pdb\n",
    "from collections import Counter\n",
    "import itertools\n",
    "from sklearn import metrics\n",
    "import matplotlib.pyplot as plt\n",
    "%matplotlib inline"
   ]
  },
  {
   "cell_type": "code",
   "execution_count": 2,
   "metadata": {
    "collapsed": true
   },
   "outputs": [],
   "source": [
    "#read data from file\n",
    "train = pd.read_csv('C:/Users/LMatt/OneDrive/Dokumente/Mathe/Mustererkennung_Rojas/U1/train/data', \n",
    "                    delim_whitespace = True, header = None)\n",
    "train_labels = np.array(train[:][0])\n",
    "train_images = np.array(train)[:,1:]\n",
    "\n",
    "test = pd.read_csv('C:/Users/LMatt/OneDrive/Dokumente/Mathe/Mustererkennung_Rojas/U1/test/data', \n",
    "                   delim_whitespace = True, header = None)\n",
    "test_labels = np.array(test[:][0])\n",
    "test_images = np.array(test)[:,1:]"
   ]
  },
  {
   "cell_type": "code",
   "execution_count": 7,
   "metadata": {
    "collapsed": true
   },
   "outputs": [],
   "source": [
    "def sigmoid(x):\n",
    "    x = np.array(x)\n",
    "    return 1./(1. + np.exp(-x))"
   ]
  },
  {
   "cell_type": "code",
   "execution_count": null,
   "metadata": {
    "collapsed": true
   },
   "outputs": [],
   "source": [
    "class neural_network:\n",
    "    \n",
    "    def __init__(self, no_hiddenlayers, no_neurons):\n",
    "        self.no_hiddenlayers = no_hiddenlayers\n",
    "        self.no_neurons = no_neurons\n",
    "        self.weights = [np.random.rand(self.no_neurons[i] + 1, self.no_neurons[i+1]) for i in range(self.no_hiddenlayers + 1)]\n",
    "        \n",
    "    def feedforward(self, x):\n",
    "        x = np.reshape(x, (1, len(x)))\n",
    "        np.append(x, [[1]], axis = 1)\n",
    "        output_list = []\n",
    "        for i in range(self.no_hiddenlayers + 1):\n",
    "            x = x.dot(self.weights[i])\n",
    "            x = sigmoid(x)\n",
    "            output_list.append(x)\n",
    "        return output_list\n",
    "    \n",
    "\n",
    "            "
   ]
  },
  {
   "cell_type": "code",
   "execution_count": 23,
   "metadata": {
    "collapsed": false
   },
   "outputs": [
    {
     "data": {
      "text/plain": [
       "array([[1, 2, 1]])"
      ]
     },
     "execution_count": 23,
     "metadata": {},
     "output_type": "execute_result"
    }
   ],
   "source": [
    "x = np.array([[1, 2]])\n",
    "np.append(x, [[1]], axis = 1)"
   ]
  },
  {
   "cell_type": "code",
   "execution_count": 13,
   "metadata": {
    "collapsed": false
   },
   "outputs": [
    {
     "data": {
      "text/plain": [
       "array([[ 0.74951445,  0.79071087],\n",
       "       [ 0.85925738,  0.46293054],\n",
       "       [ 0.46782256,  0.86847232]])"
      ]
     },
     "execution_count": 13,
     "metadata": {},
     "output_type": "execute_result"
    }
   ],
   "source": [
    "np.random.rand(3,2)"
   ]
  },
  {
   "cell_type": "code",
   "execution_count": null,
   "metadata": {
    "collapsed": true
   },
   "outputs": [],
   "source": []
  }
 ],
 "metadata": {
  "kernelspec": {
   "display_name": "Python [conda env:py35]",
   "language": "python",
   "name": "conda-env-py35-py"
  },
  "language_info": {
   "codemirror_mode": {
    "name": "ipython",
    "version": 3
   },
   "file_extension": ".py",
   "mimetype": "text/x-python",
   "name": "python",
   "nbconvert_exporter": "python",
   "pygments_lexer": "ipython3",
   "version": "3.5.2"
  }
 },
 "nbformat": 4,
 "nbformat_minor": 1
}
