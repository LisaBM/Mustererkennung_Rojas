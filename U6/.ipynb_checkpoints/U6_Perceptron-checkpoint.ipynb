{
 "cells": [
  {
   "cell_type": "markdown",
   "metadata": {},
   "source": [
    "## Übung 6 - Vanessa Schreck, Lisa Mattrisch\n",
    "# Percepron Learning"
   ]
  },
  {
   "cell_type": "code",
   "execution_count": 1,
   "metadata": {
    "collapsed": true
   },
   "outputs": [],
   "source": [
    "import pandas as pd\n",
    "import numpy as np\n",
    "import random\n",
    "import itertools\n",
    "from sklearn.model_selection import train_test_split"
   ]
  },
  {
   "cell_type": "markdown",
   "metadata": {},
   "source": [
    "### Loading Data"
   ]
  },
  {
   "cell_type": "code",
   "execution_count": 2,
   "metadata": {
    "collapsed": true
   },
   "outputs": [],
   "source": [
    "dataframe = pd.read_csv('~/Dokumente/Mustererkennung_Rojas/Iris_Data/iris_data.txt',\n",
    "                        header = None)\n",
    "data_array = np.array(dataframe)\n",
    "\n",
    "### Separate data by class:\n",
    "data  = {\"Iris-setosa\": [],\n",
    "         \"Iris-versicolor\": [],\n",
    "         \"Iris-virginica\": []\n",
    "               }\n",
    "data_labels = [\"Iris-setosa\",\n",
    "               \"Iris-versicolor\",\n",
    "               \"Iris-virginica\"\n",
    "               ]\n",
    "\n",
    "for row in data_array:\n",
    "    for label in data_labels:\n",
    "        if row[-1] == label:\n",
    "            data[label].append(row[:-1])\n",
    "\n",
    "### Divide data (each class individually) in train set and test set (80-20):\n",
    "train  = {}\n",
    "test   = {}\n",
    "for label in data_labels:\n",
    "    train[label], test[label] = train_test_split(np.array( data[label] ),\n",
    "                                                 test_size=0.2,\n",
    "                                                 random_state=13\n",
    "                                                 )"
   ]
  },
  {
   "cell_type": "markdown",
   "metadata": {},
   "source": [
    "### Classifier"
   ]
  },
  {
   "cell_type": "code",
   "execution_count": 3,
   "metadata": {
    "collapsed": true
   },
   "outputs": [],
   "source": [
    "class Classifier:\n",
    "    def __init__(self,\n",
    "                 max_iter = 10000,\n",
    "                 do_pocket = False,\n",
    "                 ):\n",
    "        self.max_iter = max_iter      ### Algo should stop after max_iter iterations.\n",
    "        self.do_pocket = do_pocket    ### Indicates whether or not pocket algo should be used\n",
    "    \n",
    "    def fit(self,\n",
    "            train_label1, # positive\n",
    "            train_label2, # negative\n",
    "            label1,\n",
    "            label2\n",
    "           ):\n",
    "        \n",
    "        self.pos_label = label1\n",
    "        self.neg_label = label2\n",
    "        \n",
    "        ### Extend the data by an additional dimension to avoid a constant term theta:\n",
    "        num_label1 = len(train_label1)\n",
    "        num_label2 = len(train_label2)\n",
    "        self.num_data = num_label1 + num_label2\n",
    "\n",
    "        train_label1 = np.concatenate((np.ones(num_label1)[np.newaxis,:].T,\n",
    "                                       train_label1),\n",
    "                                       axis = 1\n",
    "                                     )\n",
    "        train_label2 = np.concatenate((np.ones(num_label2)[np.newaxis,:].T,\n",
    "                                       train_label2),\n",
    "                                       axis = 1\n",
    "                                     )\n",
    "        \n",
    "        ### Negate the data of the negative label, so there is only one class left:\n",
    "        train_label2 *= -1\n",
    "        \n",
    "        ### Merge the data of the two classes:\n",
    "        self.train = np.concatenate((train_label1,\n",
    "                                     train_label2\n",
    "                                   ))\n",
    "\n",
    "        ##################################\n",
    "        ###          ALGORITHM         ###\n",
    "        ##################################\n",
    "        \n",
    "        ### Initializing w_o to one data point (first in list):\n",
    "        current_w = self.train[0]\n",
    "        \n",
    "        self.counter                = 0\n",
    "        self.currently_correct = np.array( [False]* self.num_data )\n",
    "        self.best_num_so_far   = 0\n",
    "        while self.counter < self.max_iter:\n",
    "            ### Check if we are done already:\n",
    "            if sum(self.currently_correct) == self.num_data:\n",
    "                break\n",
    "            ### if not, perform iteration step:\n",
    "            current_x, pos = self.get_random_data_point()\n",
    "            if np.dot(current_x, current_w) >= 0:\n",
    "                ### if this current_x is classified correctly by current_w,\n",
    "                ### add an \"is classified correctly\"-flag corresponding to this current_x\n",
    "                self.currently_correct[pos] = True\n",
    "                ### If we want to perform the pocket algo, check if this current_w is better\n",
    "                ### than the so-far best w (pocket_w) and if yes, update pocket.\n",
    "                if self.do_pocket and sum(self.currently_correct) > self.best_num_so_far:\n",
    "                    self.best_num_so_far = sum(self.currently_correct)\n",
    "                    self.pocket_w = current_w\n",
    "                continue\n",
    "            else:\n",
    "                current_w += current_x\n",
    "                ### Reset self.currentyl_correct to False for this new direction w:\n",
    "                self.currently_correct = np.array( [False]* self.num_data )\n",
    "                self.counter += 1\n",
    "                \n",
    "        ### Store separating hyperplane:\n",
    "        if self.do_pocket:\n",
    "            self.separating_w = self.pocket_w\n",
    "        else:\n",
    "            self.separating_w = self.current_w\n",
    "            \n",
    "    def get_random_data_point(self):\n",
    "        pos_list = np.array(range(self.num_data))\n",
    "        pos_list_falsely_class = pos_list[ ~self.currently_correct ]\n",
    "        pos = random.choice(pos_list_falsely_class)\n",
    "        x = self.train[pos]\n",
    "        return x, pos\n",
    "    \n",
    "    def predict(self,test):\n",
    "        ### Add an extra dimension, as with the training data:\n",
    "        num_test = len(test)\n",
    "        test = np.concatenate((np.ones(num_test)[np.newaxis,:].T,\n",
    "                               test),\n",
    "                               axis = 1\n",
    "                             )\n",
    "        \n",
    "        ### For each data point, calculate the sign of its scalar prodocts with the separating w.\n",
    "        pred_signs = np.sign(np.dot( test,\n",
    "                                    self.separating_w.T\n",
    "                                  )\n",
    "                           )\n",
    "        ### Convert the labels +1/-1 into string-labels:\n",
    "        L = np.array([self.pos_label, self.neg_label])\n",
    "        pred_labels = L[list((pred_signs == -1).astype(int))]\n",
    "        \n",
    "        return pred_labels\n",
    "        \n",
    "    def accuracy(self, test, labels):\n",
    "        ### Calculate accuracy on the test set\n",
    "        pred_labels = self.predict(test)\n",
    "        acc = sum(pred_labels == labels)/float(len(test))\n",
    "        return acc"
   ]
  },
  {
   "cell_type": "code",
   "execution_count": 4,
   "metadata": {
    "collapsed": false
   },
   "outputs": [
    {
     "name": "stdout",
     "output_type": "stream",
     "text": [
      "Accurracy for separating labels Iris-setosa and Iris-versicolor is 100.0%\n",
      "Accurracy for separating labels Iris-setosa and Iris-virginica is 100.0%\n",
      "Accurracy for separating labels Iris-versicolor and Iris-virginica is 95.0%\n"
     ]
    }
   ],
   "source": [
    "cl = Classifier(do_pocket = True)\n",
    "\n",
    "for i,j in itertools.combinations([0,1,2], 2):\n",
    "    label1 = data_labels[i]\n",
    "    label2 = data_labels[j]\n",
    "\n",
    "    cl.fit(train[label1],\n",
    "           train[label2],\n",
    "           label1,\n",
    "           label2\n",
    "           )\n",
    "    ### Glue together the test data (and corresponding labels) of the two classes that are considered.\n",
    "    test_data   = np.concatenate((test[label1], test[label2]))\n",
    "    test_labels = np.concatenate(([label1]*len(test[label1]), [label2]*len(test[label2])))\n",
    "\n",
    "    acc = cl.accuracy(test_data, test_labels)\n",
    "    print(\"Accurracy for separating labels \" + str(label1) + \" and \" \n",
    "          + str(label2) + \" is \" + str(round(100*acc, 2)) + \"%\")"
   ]
  }
 ],
 "metadata": {
  "anaconda-cloud": {},
  "kernelspec": {
   "display_name": "Python [default]",
   "language": "python",
   "name": "python3"
  },
  "language_info": {
   "codemirror_mode": {
    "name": "ipython",
    "version": 3
   },
   "file_extension": ".py",
   "mimetype": "text/x-python",
   "name": "python",
   "nbconvert_exporter": "python",
   "pygments_lexer": "ipython3",
   "version": "3.5.2"
  }
 },
 "nbformat": 4,
 "nbformat_minor": 2
}
