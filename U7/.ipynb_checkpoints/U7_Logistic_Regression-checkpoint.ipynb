{
 "cells": [
  {
   "cell_type": "markdown",
   "metadata": {},
   "source": [
    "## Übung 7 - Lisa Mattrisch, Vanessa Schreck\n",
    "# Logistic Regression"
   ]
  },
  {
   "cell_type": "code",
   "execution_count": 40,
   "metadata": {
    "collapsed": true
   },
   "outputs": [],
   "source": [
    "import pandas as pd\n",
    "import numpy as np\n",
    "from sklearn.model_selection import train_test_split\n",
    "import random\n",
    "import matplotlib.pyplot as plt\n",
    "from sklearn import metrics\n",
    "import itertools\n",
    "\n",
    "%matplotlib inline"
   ]
  },
  {
   "cell_type": "code",
   "execution_count": 60,
   "metadata": {},
   "outputs": [],
   "source": [
    "class DataPoint:\n",
    "    \n",
    "    def __init__(self, pos, label):\n",
    "        self.position = pos\n",
    "        self.label = label\n",
    "    \n",
    "    def get_prob_correct(self, beta, label):\n",
    "        scalar_product = np.dot( self.position.T, beta )\n",
    "        #if scalar_product*label > 0:\n",
    "            #print('scalar prod is ' + str(scalar_product) + ', label is ' + str(label) )\n",
    "        prob = 1./(1+ np.exp(-label* scalar_product ))\n",
    "        ### probability that dp belongs to class of label under assumption of beta\n",
    "        return prob\n",
    "            \n",
    "            \n",
    "class Classifier:\n",
    "    \n",
    "    def __init__(self, step_size, max_iter = 100, min_norm = .01):\n",
    "        self.step_size = step_size\n",
    "        self.max_iter  = max_iter\n",
    "        self.min_norm  = min_norm\n",
    "        \n",
    "        \n",
    "    def gradient(self, train_data, beta):\n",
    "        grad = 0\n",
    "        for dp in train_data :\n",
    "            grad += dp.label * dp.position * (1 - dp.get_prob_correct(beta, dp.label))\n",
    "        return grad\n",
    "    \n",
    "    def calculate_accuracy(self, beta, test_data):\n",
    "        # needs the test_data to have an assigned label\n",
    "        self.predict(test_data)\n",
    "        num_correct = sum([1 for dp in test_data if dp.predicted_label == dp.label])\n",
    "        acc = num_correct/ float(len(test_data))\n",
    "        return acc\n",
    "    \n",
    "    def fit(self, train_data, test_data):\n",
    "        # Initialize an empty list to later store (in each iteration) the accuracy of the current beta\n",
    "        self.progress  = []\n",
    "        #self.beta = random.choice(train_data).position\n",
    "        #self.beta = np.zeros(58)\n",
    "        self.beta = np.array([ random.randint(-100,100) for i in range(58)  ])\n",
    "        counter = 0\n",
    "        while counter < self.max_iter:\n",
    "            beta_new = self.beta + self.step_size * self.gradient(train_data, self.beta)\n",
    "            \n",
    "            if np.linalg.norm(beta_new - self.beta) < self.min_norm:\n",
    "                # If the new beta doesn't deviate much from the old one, we are happy with the old one and break.\n",
    "                break\n",
    "                \n",
    "            self.beta = beta_new #/ np.linalg.norm(beta_new)\n",
    "            acc = self.calculate_accuracy(self.beta, test_data)\n",
    "            self.progress.append(acc)\n",
    "            counter += 1\n",
    "        print('***** Ended after ' + str(counter) + ' iterations ********')\n",
    "        \n",
    "    def predict(self, test_data):\n",
    "        self.liste = []\n",
    "        for dp in test_data:\n",
    "            prob = dp.get_prob_correct( self.beta, 1) # probability, that dp belongs to class '1'\n",
    "            self.liste.append(prob)\n",
    "            if prob > .5:\n",
    "                # if this prob is large enough, assign predicted label '1' to dp:\n",
    "                dp.predicted_label = 1\n",
    "            else:\n",
    "                dp.predicted_label = -1\n",
    "    \n",
    "    def plot_stuff(self, test_data):\n",
    "        ### Generate figure\n",
    "        fig = plt.figure( figsize=(14, 7) )\n",
    "        \n",
    "        ### Plot progress of classification accuracy\n",
    "        plt.subplot(121)\n",
    "        plt.plot(self.progress)\n",
    "        \n",
    "        ### Generate lists of true labels and predicted labels (for the confusion matrix)\n",
    "        test_labels, test_predictions = zip(* [ (dp.label, dp.predicted_label) for dp in test_data])\n",
    "        \n",
    "        print(test_labels[:15])\n",
    "        print(test_predictions[:15])\n",
    "        \n",
    "        \n",
    "        ### Generate confusion matrix:\n",
    "        conf_matrix = metrics.confusion_matrix(test_labels, test_predictions, labels = [-1,1])\n",
    "        norm_conf_matrix = conf_matrix.astype('float')/conf_matrix.sum(axis = 1)[:, np.newaxis]\n",
    "        \n",
    "        ### Plot confusion matrix:\n",
    "        plt.subplot(122)\n",
    "        plt.imshow(norm_conf_matrix,cmap=plt.cm.Blues)\n",
    "        plt.colorbar()\n",
    "        plt.xlabel('predicted label')\n",
    "        plt.ylabel('true label')\n",
    "        plt.title('Confusion matrix\\n')\n",
    "        for i, j in itertools.product(range(norm_conf_matrix.shape[0]), range(norm_conf_matrix.shape[1])):\n",
    "            plt.text(j,\n",
    "                     i,\n",
    "                     format(norm_conf_matrix[i,j], '.3f'),\n",
    "                     horizontalalignment = 'center',\n",
    "                     color = 'white' if norm_conf_matrix[i,j] > .7 else 'black'\n",
    "                    )"
   ]
  },
  {
   "cell_type": "code",
   "execution_count": 34,
   "metadata": {},
   "outputs": [],
   "source": [
    "dataframe = pd.read_csv('~/Dokumente/Mustererkennung_Rojas/spam_data/spambase.data', header = None)\n",
    "data_array = np.array(dataframe)\n",
    "\n",
    "### Divide data in train set and test set (80-20):\n",
    "train, test = train_test_split(\n",
    "    data_array,\n",
    "    test_size=0.2,\n",
    "    random_state=13\n",
    ")\n",
    "\n",
    "### Collect data as list of DataPoint instances:\n",
    "train_data = []\n",
    "for point in train:\n",
    "    pos = point[:-1]\n",
    "    ### add 1 as first coordinate to pos:\n",
    "    pos = np.append([1], pos)\n",
    "    dp = DataPoint(pos/np.linalg.norm(pos),\n",
    "                   point[-1]\n",
    "                  )\n",
    "    ### change labels from 0/1 to -1/+1\n",
    "    if dp.label == 0:\n",
    "        dp.label = -1\n",
    "    train_data.append(dp)\n",
    "    \n",
    "    \n",
    "test_data = []\n",
    "for point in test:\n",
    "    pos = point[:-1]\n",
    "    ### add 1 as first coordinate to pos:\n",
    "    pos = np.append([1], pos)\n",
    "    dp = DataPoint(pos/np.linalg.norm(pos),\n",
    "                   point[-1]\n",
    "                  )\n",
    "    ### change labels from 0/1 to -1/+1\n",
    "    if dp.label == 0:\n",
    "        dp.label = -1\n",
    "    test_data.append(dp)"
   ]
  },
  {
   "cell_type": "markdown",
   "metadata": {},
   "source": [
    "Generate Classifier object and fit & predict"
   ]
  },
  {
   "cell_type": "code",
   "execution_count": 61,
   "metadata": {
    "scrolled": true
   },
   "outputs": [
    {
     "name": "stderr",
     "output_type": "stream",
     "text": [
      "/storage/mi/schreva91/anaconda3/lib/python3.6/site-packages/ipykernel_launcher.py:11: RuntimeWarning: overflow encountered in exp\n",
      "  # This is added back by InteractiveShellApp.init_path()\n"
     ]
    },
    {
     "name": "stdout",
     "output_type": "stream",
     "text": [
      "***** Ended after 1000 iterations ********\n"
     ]
    }
   ],
   "source": [
    "cl = Classifier(10, max_iter = 1000, min_norm = 15)\n",
    "cl.fit(train_data, test_data)"
   ]
  },
  {
   "cell_type": "code",
   "execution_count": 62,
   "metadata": {},
   "outputs": [
    {
     "name": "stdout",
     "output_type": "stream",
     "text": [
      "Max prob is 1.0, min prob is 0.0\n"
     ]
    },
    {
     "name": "stderr",
     "output_type": "stream",
     "text": [
      "/storage/mi/schreva91/anaconda3/lib/python3.6/site-packages/ipykernel_launcher.py:11: RuntimeWarning: overflow encountered in exp\n",
      "  # This is added back by InteractiveShellApp.init_path()\n"
     ]
    }
   ],
   "source": [
    "cl.predict(test_data)\n",
    "print('Max prob is ' + str(max(cl.liste)) + ', min prob is ' + str(min(cl.liste)) )"
   ]
  },
  {
   "cell_type": "code",
   "execution_count": 63,
   "metadata": {},
   "outputs": [
    {
     "name": "stdout",
     "output_type": "stream",
     "text": [
      "(1.0, -1, -1, -1, -1, 1.0, 1.0, -1, -1, 1.0, 1.0, 1.0, 1.0, -1, -1)\n",
      "(1, -1, 1, -1, 1, 1, 1, -1, -1, 1, 1, 1, 1, 1, 1)\n"
     ]
    },
    {
     "data": {
      "image/png": "[encoded data removed]",
      "text/plain": [
       "<matplotlib.figure.Figure at 0x7ff73fc4f9e8>"
      ]
     },
     "metadata": {},
     "output_type": "display_data"
    }
   ],
   "source": [
    "cl.plot_stuff(test_data)"
   ]
  },
  {
   "cell_type": "code",
   "execution_count": 43,
   "metadata": {},
   "outputs": [
    {
     "data": {
      "text/plain": [
       "344.29454558246789"
      ]
     },
     "execution_count": 43,
     "metadata": {},
     "output_type": "execute_result"
    }
   ],
   "source": [
    "np.linalg.norm(cl.beta)"
   ]
  },
  {
   "cell_type": "code",
   "execution_count": null,
   "metadata": {
    "collapsed": true
   },
   "outputs": [],
   "source": []
  }
 ],
 "metadata": {
  "kernelspec": {
   "display_name": "Python 3",
   "language": "python",
   "name": "python3"
  },
  "language_info": {
   "codemirror_mode": {
    "name": "ipython",
    "version": 3
   },
   "file_extension": ".py",
   "mimetype": "text/x-python",
   "name": "python",
   "nbconvert_exporter": "python",
   "pygments_lexer": "ipython3",
   "version": "3.6.1"
  }
 },
 "nbformat": 4,
 "nbformat_minor": 2
}
